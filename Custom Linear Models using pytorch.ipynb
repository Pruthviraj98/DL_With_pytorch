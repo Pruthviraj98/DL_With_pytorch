{
 "cells": [
  {
   "cell_type": "code",
   "execution_count": 1,
   "metadata": {},
   "outputs": [],
   "source": [
    "import torch\n",
    "import torch.nn as nn\n",
    "import  matplotlib.pyplot as plt\n",
    "import numpy as np"
   ]
  },
  {
   "cell_type": "code",
   "execution_count": 2,
   "metadata": {},
   "outputs": [
    {
     "data": {
      "text/plain": [
       "Text(0.5, 0, 'x')"
      ]
     },
     "execution_count": 2,
     "metadata": {},
     "output_type": "execute_result"
    },
    {
     "data": {
      "image/png": "[encoded data removed]",
      "text/plain": [
       "<Figure size 432x288 with 1 Axes>"
      ]
     },
     "metadata": {
      "needs_background": "light"
     },
     "output_type": "display_data"
    }
   ],
   "source": [
    "#create the dataset\n",
    "X=torch.randn(100, 1)*10 #params= rows, cols\n",
    "y=X + 3*torch.randn(100, 1) #adding noise in significant  amount\n",
    "plt.plot(X.numpy(), y.numpy(), 'o')\n",
    "plt.ylabel('y')\n",
    "plt.xlabel('x')"
   ]
  },
  {
   "cell_type": "code",
   "execution_count": 3,
   "metadata": {},
   "outputs": [],
   "source": [
    "class LR(nn.Module): ## use it as a template for our models and it leverages all the modules from the base class nn #inheritance\n",
    "    def __init__(self, input_size, output_size): ## to initialize new instances of this class### constructor\n",
    "        super().__init__() ## to call the  funs from the parent class nn \n",
    "                                                        #the above code is boiler plate code that is necessary  every time\n",
    "        self.linear=nn.Linear(input_size, output_size)\n",
    "    def forward(self, x):\n",
    "        pred=self.linear(x)\n",
    "        return pred"
   ]
  },
  {
   "cell_type": "code",
   "execution_count": 4,
   "metadata": {},
   "outputs": [
    {
     "name": "stdout",
     "output_type": "stream",
     "text": [
      "LR(\n",
      "  (linear): Linear(in_features=1, out_features=1, bias=True)\n",
      ")\n"
     ]
    }
   ],
   "source": [
    "torch.manual_seed(1)\n",
    "model=LR(1, 1)\n",
    "print(model)"
   ]
  },
  {
   "cell_type": "code",
   "execution_count": 5,
   "metadata": {},
   "outputs": [
    {
     "name": "stdout",
     "output_type": "stream",
     "text": [
      "Parameter containing:\n",
      "tensor([[0.5153]], requires_grad=True) Parameter containing:\n",
      "tensor([-0.4414], requires_grad=True)\n"
     ]
    }
   ],
   "source": [
    "[w, b]=model.parameters()\n",
    "# x=torch.tensor([[1.0], [2.0]])\n",
    "# print(model.forward(x))\n",
    "print(w, b)\n",
    "def get_params():\n",
    "    # item ==to give the python number from the tensor values\n",
    "    return(w[0][0].item(), b[0].item())"
   ]
  },
  {
   "cell_type": "code",
   "execution_count": 6,
   "metadata": {},
   "outputs": [],
   "source": [
    "def plot_fit(title):\n",
    "    plt.title=title\n",
    "    w1, b1= get_params()\n",
    "    x1=np.array([-30, 30]) # as x axis  from above graph goes from -30 to 30 \n",
    "    y1=w1*x1+b1  #return 2 points i.e  x coordinate and y coordinnate\n",
    "    plt.plot(x1, y1, 'r') #plot the line\n",
    "    plt.scatter(X, y)\n",
    "    plt.show()"
   ]
  },
  {
   "cell_type": "code",
   "execution_count": 7,
   "metadata": {},
   "outputs": [
    {
     "data": {
      "image/png": "[encoded data removed]",
      "text/plain": [
       "<Figure size 432x288 with 1 Axes>"
      ]
     },
     "metadata": {
      "needs_background": "light"
     },
     "output_type": "display_data"
    }
   ],
   "source": [
    "plot_fit('Linear_initial')"
   ]
  },
  {
   "cell_type": "code",
   "execution_count": 8,
   "metadata": {},
   "outputs": [],
   "source": [
    "#loss function\n",
    "criterion=nn.MSELoss() #built in loss fun for MSE\n",
    "optimizer=torch.optim.SGD(model.parameters(), lr=0.001) ##params == what to be updated, learing rate"
   ]
  },
  {
   "cell_type": "code",
   "execution_count": 9,
   "metadata": {},
   "outputs": [
    {
     "name": "stdout",
     "output_type": "stream",
     "text": [
      "epoch: 0 loss: 31.49418067932129\n",
      "epoch: 1 loss: 23.062158584594727\n",
      "epoch: 2 loss: 17.900196075439453\n",
      "epoch: 3 loss: 14.739849090576172\n",
      "epoch: 4 loss: 12.80469036102295\n",
      "epoch: 5 loss: 11.61947250366211\n",
      "epoch: 6 loss: 10.893298149108887\n",
      "epoch: 7 loss: 10.448107719421387\n",
      "epoch: 8 loss: 10.174908638000488\n",
      "epoch: 9 loss: 10.006991386413574\n",
      "epoch: 10 loss: 9.90351676940918\n",
      "epoch: 11 loss: 9.839491844177246\n",
      "epoch: 12 loss: 9.799616813659668\n",
      "epoch: 13 loss: 9.77452564239502\n",
      "epoch: 14 loss: 9.758487701416016\n",
      "epoch: 15 loss: 9.747992515563965\n",
      "epoch: 16 loss: 9.74089527130127\n",
      "epoch: 17 loss: 9.735877990722656\n",
      "epoch: 18 loss: 9.732137680053711\n",
      "epoch: 19 loss: 9.729181289672852\n",
      "epoch: 20 loss: 9.726707458496094\n",
      "epoch: 21 loss: 9.724533081054688\n",
      "epoch: 22 loss: 9.722542762756348\n",
      "epoch: 23 loss: 9.720667839050293\n",
      "epoch: 24 loss: 9.718867301940918\n",
      "epoch: 25 loss: 9.717114448547363\n",
      "epoch: 26 loss: 9.71539306640625\n",
      "epoch: 27 loss: 9.713693618774414\n",
      "epoch: 28 loss: 9.712011337280273\n",
      "epoch: 29 loss: 9.710339546203613\n",
      "epoch: 30 loss: 9.70867919921875\n",
      "epoch: 31 loss: 9.707026481628418\n",
      "epoch: 32 loss: 9.70538330078125\n",
      "epoch: 33 loss: 9.70374584197998\n",
      "epoch: 34 loss: 9.702116966247559\n",
      "epoch: 35 loss: 9.700493812561035\n",
      "epoch: 36 loss: 9.698878288269043\n",
      "epoch: 37 loss: 9.69726848602295\n",
      "epoch: 38 loss: 9.69566535949707\n",
      "epoch: 39 loss: 9.69406795501709\n",
      "epoch: 40 loss: 9.69247817993164\n",
      "epoch: 41 loss: 9.69089412689209\n",
      "epoch: 42 loss: 9.689316749572754\n",
      "epoch: 43 loss: 9.687745094299316\n",
      "epoch: 44 loss: 9.686180114746094\n",
      "epoch: 45 loss: 9.684621810913086\n",
      "epoch: 46 loss: 9.683069229125977\n",
      "epoch: 47 loss: 9.681522369384766\n",
      "epoch: 48 loss: 9.67998218536377\n",
      "epoch: 49 loss: 9.678448677062988\n",
      "epoch: 50 loss: 9.676920890808105\n",
      "epoch: 51 loss: 9.675398826599121\n",
      "epoch: 52 loss: 9.673883438110352\n",
      "epoch: 53 loss: 9.67237377166748\n",
      "epoch: 54 loss: 9.670869827270508\n",
      "epoch: 55 loss: 9.66937255859375\n",
      "epoch: 56 loss: 9.66788101196289\n",
      "epoch: 57 loss: 9.66639518737793\n",
      "epoch: 58 loss: 9.664916038513184\n",
      "epoch: 59 loss: 9.663442611694336\n",
      "epoch: 60 loss: 9.661974906921387\n",
      "epoch: 61 loss: 9.66051197052002\n",
      "epoch: 62 loss: 9.659055709838867\n",
      "epoch: 63 loss: 9.65760612487793\n",
      "epoch: 64 loss: 9.656161308288574\n",
      "epoch: 65 loss: 9.6547212600708\n",
      "epoch: 66 loss: 9.653288841247559\n",
      "epoch: 67 loss: 9.651861190795898\n",
      "epoch: 68 loss: 9.650440216064453\n",
      "epoch: 69 loss: 9.64902400970459\n",
      "epoch: 70 loss: 9.647613525390625\n",
      "epoch: 71 loss: 9.646208763122559\n",
      "epoch: 72 loss: 9.64480972290039\n",
      "epoch: 73 loss: 9.643416404724121\n",
      "epoch: 74 loss: 9.642027854919434\n",
      "epoch: 75 loss: 9.640645980834961\n",
      "epoch: 76 loss: 9.63926887512207\n",
      "epoch: 77 loss: 9.637897491455078\n",
      "epoch: 78 loss: 9.636531829833984\n",
      "epoch: 79 loss: 9.635170936584473\n",
      "epoch: 80 loss: 9.63381576538086\n",
      "epoch: 81 loss: 9.632466316223145\n",
      "epoch: 82 loss: 9.631121635437012\n",
      "epoch: 83 loss: 9.629783630371094\n",
      "epoch: 84 loss: 9.628450393676758\n",
      "epoch: 85 loss: 9.627120971679688\n",
      "epoch: 86 loss: 9.625798225402832\n",
      "epoch: 87 loss: 9.624481201171875\n",
      "epoch: 88 loss: 9.6231689453125\n",
      "epoch: 89 loss: 9.621861457824707\n",
      "epoch: 90 loss: 9.620559692382812\n",
      "epoch: 91 loss: 9.619263648986816\n",
      "epoch: 92 loss: 9.617971420288086\n",
      "epoch: 93 loss: 9.61668586730957\n",
      "epoch: 94 loss: 9.61540412902832\n",
      "epoch: 95 loss: 9.614128112792969\n",
      "epoch: 96 loss: 9.6128568649292\n",
      "epoch: 97 loss: 9.611591339111328\n",
      "epoch: 98 loss: 9.610330581665039\n",
      "epoch: 99 loss: 9.609074592590332\n"
     ]
    }
   ],
   "source": [
    "epochs = 100\n",
    "losses=[]\n",
    "for i in range(epochs):\n",
    "    y_pred=model.forward(X)\n",
    "    loss=criterion(y_pred, y)\n",
    "    print(\"epoch:\", i, \"loss:\", loss.item())\n",
    "    \n",
    "    losses.append(loss)\n",
    "    optimizer.zero_grad()##set gradients to zero since gradients accumulates from the backwards last call\n",
    "    loss.backward() ##derivative section\n",
    "    optimizer.step()"
   ]
  },
  {
   "cell_type": "code",
   "execution_count": 10,
   "metadata": {},
   "outputs": [
    {
     "data": {
      "text/plain": [
       "Text(0.5, 0, 'epoch')"
      ]
     },
     "execution_count": 10,
     "metadata": {},
     "output_type": "execute_result"
    },
    {
     "data": {
      "image/png": "[encoded data removed]",
      "text/plain": [
       "<Figure size 432x288 with 1 Axes>"
      ]
     },
     "metadata": {
      "needs_background": "light"
     },
     "output_type": "display_data"
    }
   ],
   "source": [
    "plt.plot(range(epochs), losses)\n",
    "plt.ylabel(\"Loss\")\n",
    "plt.xlabel(\"epoch\")"
   ]
  },
  {
   "cell_type": "code",
   "execution_count": 11,
   "metadata": {},
   "outputs": [
    {
     "data": {
      "image/png": "[encoded data removed]",
      "text/plain": [
       "<Figure size 432x288 with 1 Axes>"
      ]
     },
     "metadata": {
      "needs_background": "light"
     },
     "output_type": "display_data"
    }
   ],
   "source": [
    "plot_fit(\"Train_moodel\")"
   ]
  }
 ],
 "metadata": {
  "kernelspec": {
   "display_name": "Python 3",
   "language": "python",
   "name": "python3"
  },
  "language_info": {
   "codemirror_mode": {
    "name": "ipython",
    "version": 3
   },
   "file_extension": ".py",
   "mimetype": "text/x-python",
   "name": "python",
   "nbconvert_exporter": "python",
   "pygments_lexer": "ipython3",
   "version": "3.7.3"
  }
 },
 "nbformat": 4,
 "nbformat_minor": 2
}
